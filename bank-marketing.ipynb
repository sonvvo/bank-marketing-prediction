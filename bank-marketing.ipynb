{
 "cells": [
  {
   "cell_type": "code",
   "execution_count": 1,
   "id": "e3b37da8-750c-48c8-b733-7a7f672f1c4e",
   "metadata": {},
   "outputs": [],
   "source": [
    "from sklearn.model_selection import train_test_split, GridSearchCV\n",
    "from sklearn.preprocessing import LabelEncoder\n",
    "from sklearn.ensemble import RandomForestClassifier\n",
    "from sklearn.metrics import (\n",
    "    confusion_matrix,\n",
    "    roc_auc_score,\n",
    "    recall_score,\n",
    "    classification_report,\n",
    ")\n",
    "import numpy as np\n",
    "import pandas as pd\n",
    "import matplotlib.pyplot as plt\n",
    "import seaborn as sns"
   ]
  },
  {
   "cell_type": "markdown",
   "id": "6933b006-f19b-4589-b7c8-8ccbf4115f28",
   "metadata": {},
   "source": [
    "Load Data set"
   ]
  },
  {
   "cell_type": "code",
   "execution_count": 2,
   "id": "eb728df0-c841-479e-a104-bcb22bd9edce",
   "metadata": {},
   "outputs": [],
   "source": [
    "data = pd.read_csv(\"bank-additional.csv\", sep=\";\")"
   ]
  },
  {
   "cell_type": "markdown",
   "id": "2ae49456-7461-4af4-b37d-2ae396654a5f",
   "metadata": {},
   "source": [
    "Data Preprocessing"
   ]
  },
  {
   "cell_type": "code",
   "execution_count": 3,
   "id": "5c5e43e0-d189-4842-8984-3689a986ab76",
   "metadata": {},
   "outputs": [
    {
     "name": "stdout",
     "output_type": "stream",
     "text": [
      "Missing Values: 0\n"
     ]
    }
   ],
   "source": [
    "# Check missing data\n",
    "print(\"Missing Values:\", data.isnull().sum().sum())"
   ]
  },
  {
   "cell_type": "markdown",
   "id": "d4dc1a97-16ae-4676-9c6d-08576e72e2fe",
   "metadata": {},
   "source": [
    "Handle \"unknown\" values"
   ]
  },
  {
   "cell_type": "code",
   "execution_count": 4,
   "id": "4937f400-6a40-4a65-910e-138e1785a4c8",
   "metadata": {},
   "outputs": [
    {
     "name": "stdout",
     "output_type": "stream",
     "text": [
      "Index(['job', 'marital', 'education', 'default', 'housing', 'loan'], dtype='object')\n"
     ]
    }
   ],
   "source": [
    "# Columns has unknown values\n",
    "columns_have_unknown_val = data.columns[data.isin([\"unknown\"]).any()]\n",
    "print(columns_have_unknown_val)"
   ]
  },
  {
   "cell_type": "code",
   "execution_count": 5,
   "id": "f907c730-13a6-49d4-a62d-a1c7df45eb84",
   "metadata": {},
   "outputs": [],
   "source": [
    "# Replace 'unknown' with NaN in columns\n",
    "data = data.replace(\"unknown\", np.nan)"
   ]
  },
  {
   "cell_type": "code",
   "execution_count": 6,
   "id": "e596a53b-cce2-4e53-ab31-d850b29ba2d4",
   "metadata": {},
   "outputs": [
    {
     "name": "stdout",
     "output_type": "stream",
     "text": [
      "\n",
      "NaN values: 1230\n"
     ]
    }
   ],
   "source": [
    "# Check NaN values\n",
    "print(\"\\nNaN values:\", data.isnull().sum().sum())"
   ]
  },
  {
   "cell_type": "code",
   "execution_count": 7,
   "id": "fe96dd58-de27-4b85-95b7-2ab1b578464a",
   "metadata": {},
   "outputs": [],
   "source": [
    "# Replace the NaN values by most frequent category using fillna func\n",
    "data[\"job\"] = data[\"job\"].fillna(data[\"job\"].mode()[0])\n",
    "data[\"marital\"] = data[\"marital\"].fillna(data[\"marital\"].mode()[0])\n",
    "data[\"education\"] = data[\"education\"].fillna(data[\"education\"].mode()[0])\n",
    "data[\"default\"] = data[\"default\"].fillna(data[\"default\"].mode()[0])\n",
    "data[\"housing\"] = data[\"housing\"].fillna(data[\"housing\"].mode()[0])\n",
    "data[\"loan\"] = data[\"loan\"].fillna(data[\"loan\"].mode()[0])"
   ]
  },
  {
   "cell_type": "code",
   "execution_count": 8,
   "id": "cdfb2a51-4984-4255-ae4a-5340f1f5afe8",
   "metadata": {},
   "outputs": [
    {
     "name": "stdout",
     "output_type": "stream",
     "text": [
      "\n",
      "NaN values - After replacing: 0\n"
     ]
    }
   ],
   "source": [
    "print(\"\\nNaN values - After replacing:\", data.isnull().sum().sum())"
   ]
  },
  {
   "cell_type": "code",
   "execution_count": 9,
   "id": "7d233171-0c49-4747-a913-29a8d62626ed",
   "metadata": {},
   "outputs": [],
   "source": [
    "# Encode categorical variables\n",
    "categorical_cols = [\n",
    "    \"job\",  # \"admin.\",\"blue-collar\",...\n",
    "    \"marital\",  #  \"divorced\",\"married\", ...\n",
    "    \"education\",  #  \"basic.4y\",\"basic.6y\",...\n",
    "    \"default\",  #  \"no\",\"yes\",\"unknown\"\n",
    "    \"housing\",  #  \"no\",\"yes\",\"unknown\"\n",
    "    \"loan\",  #  \"no\",\"yes\",\"unknown\"\n",
    "    \"contact\",  #   \"cellular\",\"telephone\"\n",
    "    \"month\",  #   \"jan\",\"feb\",\"mar\",...,\"dec\"\n",
    "    \"day_of_week\",  #  \"mon\",\"tue\",\"wed\",\"thu\",\"fri\"\n",
    "    \"poutcome\",  #  \"failure\",\"nonexistent\",\"success\"\n",
    "]\n",
    "\n",
    "# convert into numerical values\n",
    "le = LabelEncoder()\n",
    "for col in categorical_cols:\n",
    "    data[col] = le.fit_transform(data[col])"
   ]
  },
  {
   "cell_type": "code",
   "execution_count": 10,
   "id": "ba9b424b-461c-4658-8176-22262976a6cd",
   "metadata": {},
   "outputs": [],
   "source": [
    "# convert into numerical values\n",
    "le = LabelEncoder()\n",
    "for col in categorical_cols:\n",
    "    data[col] = le.fit_transform(data[col])"
   ]
  },
  {
   "cell_type": "code",
   "execution_count": 11,
   "id": "aaf91cc1-60d4-4639-8c61-0b91c633b83d",
   "metadata": {},
   "outputs": [],
   "source": [
    "# Encode target variable\n",
    "data[\"y\"] = data[\"y\"].map({\"yes\": 1, \"no\": 0})"
   ]
  },
  {
   "cell_type": "code",
   "execution_count": 12,
   "id": "5545c89a-a285-4621-ae1b-85362ef41312",
   "metadata": {},
   "outputs": [
    {
     "name": "stdout",
     "output_type": "stream",
     "text": [
      "y\n",
      "0    3668\n",
      "1     451\n",
      "Name: count, dtype: int64\n"
     ]
    }
   ],
   "source": [
    "# Check balanced or imbalanced label\n",
    "print(data[\"y\"].value_counts())"
   ]
  },
  {
   "cell_type": "code",
   "execution_count": 13,
   "id": "318017ff-fe70-44f9-9c53-1e287c34537e",
   "metadata": {},
   "outputs": [],
   "source": [
    "# Separate features and target\n",
    "x = data.drop(\"y\", axis=1)\n",
    "y = data[\"y\"]"
   ]
  },
  {
   "cell_type": "code",
   "execution_count": 14,
   "id": "a8ddf8e6-8e69-4ec8-b896-77501a1c75dc",
   "metadata": {},
   "outputs": [],
   "source": [
    "# Splitting training and testing dataset\n",
    "x_train, x_test, y_train, y_test = train_test_split(\n",
    "    x, y, test_size=0.2, random_state=42, stratify=y\n",
    ")"
   ]
  },
  {
   "cell_type": "markdown",
   "id": "dd5d62ee-1690-4401-98d4-aadc02a19392",
   "metadata": {},
   "source": [
    "Train Model"
   ]
  },
  {
   "cell_type": "code",
   "execution_count": 15,
   "id": "c6231a4a-cac0-4748-a4fe-f560b33db1ce",
   "metadata": {},
   "outputs": [],
   "source": [
    "# train model func\n",
    "def train_model(x_train, y_train):\n",
    "    # Hyperparameters tuning using GridSearchCV\n",
    "    param_grid = {\n",
    "        \"n_estimators\": [100, 200, 500, 1000],\n",
    "        \"max_depth\": [None, 5, 10, 15],\n",
    "        \"min_samples_split\": [2, 5, 10],\n",
    "        \"min_samples_leaf\": [1, 2, 4],\n",
    "        \"max_features\": [\"sqrt\"],\n",
    "        \"bootstrap\": [True, False],\n",
    "    }\n",
    "\n",
    "    # best params for recall\n",
    "    random_forest_grid_search = GridSearchCV(\n",
    "        estimator=RandomForestClassifier(random_state=42, class_weight=\"balanced\"),\n",
    "        param_grid=param_grid,\n",
    "        scoring=\"recall\",\n",
    "        cv=5,\n",
    "        n_jobs=-1,\n",
    "        verbose=1,\n",
    "    )\n",
    "\n",
    "    random_forest_grid_search.fit(x_train, y_train)\n",
    "\n",
    "    print(\"\\nBest Parameters for model:\", random_forest_grid_search.best_params_)\n",
    "\n",
    "    # Model with best hyperparameters\n",
    "    best_random_forest = random_forest_grid_search.best_estimator_\n",
    "    best_random_forest.fit(x_train, y_train)\n",
    "\n",
    "    return best_random_forest"
   ]
  },
  {
   "cell_type": "markdown",
   "id": "83c2422c-9b7b-4ae7-94ab-240d5739388c",
   "metadata": {},
   "source": [
    "Evaluate model"
   ]
  },
  {
   "cell_type": "code",
   "execution_count": 16,
   "id": "da0865f1-007e-4b57-865f-f1af893763a1",
   "metadata": {},
   "outputs": [],
   "source": [
    "# evaluation model func\n",
    "def evaluate_model(model, x_test, y_test):\n",
    "    y_predict = model.predict(x_test)\n",
    "    y_pred_proba = model.predict_proba(x_test)[:, 1]\n",
    "\n",
    "    print(\"Model Performance Metrics\")\n",
    "    print(\"AUC score:\", round(roc_auc_score(y_test, y_pred_proba), 4))\n",
    "    print(\"Recall:\", round(recall_score(y_test, y_predict), 4))\n",
    "    print(\"Classification Report:\\n\", classification_report(y_test, y_predict))\n",
    "    print(\"===========================================\\n\")\n",
    "\n",
    "    # plot results\n",
    "    confusion_matrix_baseline = confusion_matrix(y_test, y_predict)\n",
    "    sns.heatmap(\n",
    "        confusion_matrix_baseline,\n",
    "        annot=True,\n",
    "        fmt=\"d\",\n",
    "        cmap=\"Blues\",\n",
    "        xticklabels=[\"Predicted 0\", \"Predicted 1\"],\n",
    "        yticklabels=[\"True 0\", \"True 1\"],\n",
    "    )\n",
    "    plt.title(\"Confusion Matrix\")\n",
    "    plt.show()"
   ]
  },
  {
   "cell_type": "code",
   "execution_count": 17,
   "id": "2efe7dee-1e1d-4fb6-943b-1becbe3ecd12",
   "metadata": {},
   "outputs": [
    {
     "name": "stdout",
     "output_type": "stream",
     "text": [
      "Fitting 5 folds for each of 288 candidates, totalling 1440 fits\n",
      "\n",
      "Best Parameters for model: {'bootstrap': False, 'max_depth': 5, 'max_features': 'sqrt', 'min_samples_leaf': 4, 'min_samples_split': 2, 'n_estimators': 200}\n",
      "Model Performance Metrics\n",
      "AUC score: 0.939\n",
      "Recall: 0.8889\n",
      "Classification Report:\n",
      "               precision    recall  f1-score   support\n",
      "\n",
      "           0       0.98      0.87      0.92       734\n",
      "           1       0.45      0.89      0.60        90\n",
      "\n",
      "    accuracy                           0.87       824\n",
      "   macro avg       0.72      0.88      0.76       824\n",
      "weighted avg       0.93      0.87      0.89       824\n",
      "\n",
      "===========================================\n",
      "\n"
     ]
    },
    {
     "data": {
      "image/png": "[encoded data removed]",
      "text/plain": [
       "<Figure size 640x480 with 2 Axes>"
      ]
     },
     "metadata": {},
     "output_type": "display_data"
    }
   ],
   "source": [
    "# Train\n",
    "model_with_best_params = train_model(x_train, y_train)\n",
    "# Evaluate\n",
    "evaluate_model(model_with_best_params, x_test, y_test)"
   ]
  },
  {
   "cell_type": "markdown",
   "id": "32e33fee-4775-4133-b7ad-1a3513c3884b",
   "metadata": {},
   "source": [
    "Further Improvement"
   ]
  },
  {
   "cell_type": "code",
   "execution_count": 18,
   "id": "c7bef137-8be2-465f-82f1-4e4188f56019",
   "metadata": {},
   "outputs": [],
   "source": [
    "# Feature Importance\n",
    "importances = model_with_best_params.feature_importances_\n",
    "features = x.columns\n",
    "feature_importances = pd.Series(importances, index=features).sort_values(\n",
    "    ascending=False\n",
    ")"
   ]
  },
  {
   "cell_type": "code",
   "execution_count": 19,
   "id": "bf901ae5-2b0f-4119-88fe-6a456f543924",
   "metadata": {},
   "outputs": [
    {
     "name": "stdout",
     "output_type": "stream",
     "text": [
      "Top 10 Feature Importances:\n",
      "duration          0.372776\n",
      "nr.employed       0.179610\n",
      "euribor3m         0.125164\n",
      "emp.var.rate      0.091182\n",
      "pdays             0.046991\n",
      "cons.conf.idx     0.045146\n",
      "cons.price.idx    0.035213\n",
      "poutcome          0.021964\n",
      "previous          0.015263\n",
      "month             0.014597\n",
      "dtype: float64\n"
     ]
    }
   ],
   "source": [
    "print(\"Top 10 Feature Importances:\")\n",
    "print(feature_importances.head(10))"
   ]
  },
  {
   "cell_type": "code",
   "execution_count": 20,
   "id": "e39d7ebf-81a7-4c23-a495-765badce147c",
   "metadata": {},
   "outputs": [],
   "source": [
    "top_10_features_index = list(feature_importances.head(10).index)\n",
    "# Subset the test and train sets\n",
    "x_test_top10 = x_test[top_10_features_index]\n",
    "x_train_top10 = x_train[top_10_features_index]"
   ]
  },
  {
   "cell_type": "code",
   "execution_count": 21,
   "id": "308954ba-053c-4d3a-9637-df5254820624",
   "metadata": {},
   "outputs": [
    {
     "name": "stdout",
     "output_type": "stream",
     "text": [
      "Fitting 5 folds for each of 288 candidates, totalling 1440 fits\n",
      "\n",
      "Best Parameters for model: {'bootstrap': False, 'max_depth': 5, 'max_features': 'sqrt', 'min_samples_leaf': 4, 'min_samples_split': 2, 'n_estimators': 1000}\n"
     ]
    }
   ],
   "source": [
    "# Training model on important features\n",
    "model_with_best_params_train_on_important_features = train_model(\n",
    "    x_train_top10,\n",
    "    y_train,\n",
    ")"
   ]
  },
  {
   "cell_type": "code",
   "execution_count": 22,
   "id": "aeee08ee-b34d-437e-887f-3687a69ce1e3",
   "metadata": {},
   "outputs": [
    {
     "name": "stdout",
     "output_type": "stream",
     "text": [
      "\n",
      "Model train on important features\n",
      "Model Performance Metrics\n",
      "AUC score: 0.9479\n",
      "Recall: 0.9111\n",
      "Classification Report:\n",
      "               precision    recall  f1-score   support\n",
      "\n",
      "           0       0.99      0.86      0.92       734\n",
      "           1       0.45      0.91      0.60        90\n",
      "\n",
      "    accuracy                           0.87       824\n",
      "   macro avg       0.72      0.89      0.76       824\n",
      "weighted avg       0.93      0.87      0.89       824\n",
      "\n",
      "===========================================\n",
      "\n"
     ]
    },
    {
     "data": {
      "image/png": "[encoded data removed]",
      "text/plain": [
       "<Figure size 640x480 with 2 Axes>"
      ]
     },
     "metadata": {},
     "output_type": "display_data"
    }
   ],
   "source": [
    "print(\"\\nModel train on important features\")\n",
    "# Evaluate improved solution\n",
    "evaluate_model(model_with_best_params_train_on_important_features, x_test_top10, y_test)"
   ]
  }
 ],
 "metadata": {
  "kernelspec": {
   "display_name": "Python 3 (ipykernel)",
   "language": "python",
   "name": "python3"
  },
  "language_info": {
   "codemirror_mode": {
    "name": "ipython",
    "version": 3
   },
   "file_extension": ".py",
   "mimetype": "text/x-python",
   "name": "python",
   "nbconvert_exporter": "python",
   "pygments_lexer": "ipython3",
   "version": "3.12.8"
  }
 },
 "nbformat": 4,
 "nbformat_minor": 5
}
